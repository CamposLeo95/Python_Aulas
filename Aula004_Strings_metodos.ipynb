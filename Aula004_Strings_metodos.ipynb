{
 "cells": [
  {
   "cell_type": "markdown",
   "id": "eb7482d9",
   "metadata": {},
   "source": [
    "## Strings"
   ]
  },
  {
   "cell_type": "markdown",
   "id": "bed96ab9",
   "metadata": {},
   "source": [
    "### Principais metodos de string \n"
   ]
  },
  {
   "cell_type": "markdown",
   "id": "aef12b5d",
   "metadata": {},
   "source": [
    "- captalize() → Coloca a primeira letra em maiuscula\n"
   ]
  },
  {
   "cell_type": "raw",
   "id": "2d519e49",
   "metadata": {},
   "source": [
    "Uso:\n",
    "    texto = 'leo'\n",
    "    print(texto.capitalize())\n",
    "Resultado:\n",
    "    'Leo'"
   ]
  },
  {
   "cell_type": "markdown",
   "id": "4d569fa3",
   "metadata": {},
   "source": [
    "- casefold() → Transforma todas as letras em minusculas"
   ]
  },
  {
   "cell_type": "raw",
   "id": "7a2dc706",
   "metadata": {},
   "source": [
    "Uso:\n",
    "    texto = 'Leo'\n",
    "    print(texto.casefold())\n",
    "Resultado:\n",
    "    'leo'"
   ]
  },
  {
   "cell_type": "markdown",
   "id": "d69c335d",
   "metadata": {},
   "source": [
    "- count() → Mosta a quantidade de vezes que um valor aparece na string"
   ]
  },
  {
   "cell_type": "raw",
   "id": "ae0559be",
   "metadata": {},
   "source": [
    "Uso:\n",
    "    texto = 'leonardo'\n",
    "    print(texto.count('o'))\n",
    "Resultado:\n",
    "    2"
   ]
  },
  {
   "cell_type": "markdown",
   "id": "776c34c2",
   "metadata": {},
   "source": [
    "- endswith() → Verifica se um valor termina com um determinado valor re retorna True ou False"
   ]
  },
  {
   "cell_type": "raw",
   "id": "1ec8c504",
   "metadata": {},
   "source": [
    "Uso:\n",
    "    texto = 'leo@gmail.com'\n",
    "    print(texto.endswith('@gmail.com'))\n",
    "Resultado:\n",
    "    'True'"
   ]
  },
  {
   "cell_type": "markdown",
   "id": "ca7875e8",
   "metadata": {},
   "source": [
    "- find → Procura um texto dentro de outro e retorna a posição do texto"
   ]
  },
  {
   "cell_type": "raw",
   "id": "10c06616",
   "metadata": {},
   "source": [
    "Uso:\n",
    "    texto = 'leo@gmail.com'\n",
    "    print(texto.find('@'))\n",
    "Resultado:\n",
    "    3"
   ]
  },
  {
   "cell_type": "markdown",
   "id": "e68210ae",
   "metadata": {},
   "source": [
    "- format() → Formata uma string de acordo com os valores que passamos\n"
   ]
  },
  {
   "cell_type": "raw",
   "id": "cf384f0a",
   "metadata": {},
   "source": [
    "Uso:\n",
    "    faturamento = 1000\n",
    "    print('O faturamento é de {}' .format(faturamento))\n",
    "Resultado:\n",
    "    ''O faturamento é de 1000'"
   ]
  },
  {
   "cell_type": "markdown",
   "id": "01ea6cb3",
   "metadata": {},
   "source": [
    "- isalnum() → Verifica se um texto é todo feito com caracteres alfanumerricos(letra e numeros)\n",
    "- isalpha() → Verifica se um texto é todo feito com letras\n",
    "- isnumeric() → Verifica se um texto é todo feito por numeros"
   ]
  },
  {
   "cell_type": "raw",
   "id": "54cd59a6",
   "metadata": {},
   "source": [
    "Uso:\n",
    "    texto = 'leo123'\n",
    "    print(texto.isalnum())\n",
    "Resultado:\n",
    "    'True'\n",
    "\n",
    "Uso:\n",
    "    texto = 'leo123'\n",
    "    print(texto.isalpha())\n",
    "Resultado:\n",
    "    'False'\n",
    "\n",
    "Uso:\n",
    "    texto = '123'\n",
    "    print(texto.isnumeric())\n",
    "Resultado:\n",
    "    'True'"
   ]
  },
  {
   "cell_type": "markdown",
   "id": "fcbafc63",
   "metadata": {},
   "source": [
    "- replace() → Substitui um texto por outro em uma string"
   ]
  },
  {
   "cell_type": "raw",
   "id": "e4a666f3",
   "metadata": {},
   "source": [
    "Uso:\n",
    "    texto = '1000.00'\n",
    "    print(texto.replace('.', ',')\n",
    "Resultado:\n",
    "    '1000,00'\n",
    "\n",
    "    Obs: Precisa de dois argumentos o primeiro é o texto que você ira substituir e o segundo o texto que quer colocar"
   ]
  },
  {
   "cell_type": "markdown",
   "id": "a78a17b1",
   "metadata": {},
   "source": [
    "- split() → separa uma string em varios textos de acordo com o delimitador"
   ]
  },
  {
   "cell_type": "raw",
   "id": "c0a7118c",
   "metadata": {},
   "source": [
    "Uso:\n",
    "    texto = 'leo@gmail.com'\n",
    "    print(texto.split('@'))\n",
    "Resultado:\n",
    "    ['leo', 'gmail.com']"
   ]
  },
  {
   "cell_type": "markdown",
   "id": "60a3a1f0",
   "metadata": {},
   "source": [
    "- splitlines() → Separa em varios textos de acordo com os enters"
   ]
  },
  {
   "cell_type": "raw",
   "id": "1a5213a3",
   "metadata": {},
   "source": [
    "Uso:\n",
    "    texto = '''Olá bom dia,\n",
    "    Como você esta?\n",
    "    Vim te informar que o faturamento é de: 1000.00\n",
    "    '''\n",
    "    print(texto.splitlines())\n",
    "Resultado:\n",
    "    ['Olá bom dia,', 'Como você esta?', 'Vim te informar que o faturamento é de: 1000.00']"
   ]
  },
  {
   "cell_type": "markdown",
   "id": "3f4077f0",
   "metadata": {},
   "source": [
    "- startswith() → Verifica se o texto começa com determinado texto"
   ]
  },
  {
   "cell_type": "raw",
   "id": "df57cc17",
   "metadata": {},
   "source": [
    "Uso:\n",
    "    texto = 'leo@gmail.com'\n",
    "    print(texto.startswith('leo')\n",
    "Resultado:\n",
    "    True"
   ]
  },
  {
   "cell_type": "markdown",
   "id": "efcc8ad9",
   "metadata": {},
   "source": [
    "- strip() → Retira caracteres indesejados dos textos. Por padrao retira espaços extras no inicio e final"
   ]
  },
  {
   "cell_type": "raw",
   "id": "8bf28d04",
   "metadata": {},
   "source": [
    "Uso:\n",
    "    texto = ' Leonardo'\n",
    "    print(texto.strip())\n",
    "Resultado:\n",
    "    'Leonardo'"
   ]
  },
  {
   "cell_type": "markdown",
   "id": "365358e1",
   "metadata": {},
   "source": [
    "- title() → Coloca a primeira letra de cada palavre em maiusculo"
   ]
  },
  {
   "cell_type": "raw",
   "id": "d89c32a9",
   "metadata": {},
   "source": [
    "Uso:\n",
    "    texto = 'leonardo campos'\n",
    "    print(texto.title())\n",
    "Resultado:\n",
    "    'Leonardo Campos'"
   ]
  },
  {
   "cell_type": "markdown",
   "id": "43dc3205",
   "metadata": {},
   "source": [
    "- upper() → Coloca o texto todo em letra maiuscula"
   ]
  },
  {
   "cell_type": "raw",
   "id": "98699864",
   "metadata": {},
   "source": [
    "Uso:\n",
    "    texto = ' Leonardo'\n",
    "    print(texto.upper())\n",
    "Resultado:\n",
    "    'LEONARDO'"
   ]
  },
  {
   "cell_type": "markdown",
   "id": "a509072f",
   "metadata": {},
   "source": [
    "## outros meios de verificação\n",
    "### len()\n",
    "Para verificarmos o tamanho de uma string, podemos usar o len\n",
    "##### Exemplo:\n",
    "len(variavel)<br>"
   ]
  },
  {
   "cell_type": "code",
   "execution_count": 2,
   "id": "35ac488d",
   "metadata": {},
   "outputs": [
    {
     "name": "stdout",
     "output_type": "stream",
     "text": [
      "15\n"
     ]
    }
   ],
   "source": [
    "#neste exemplo temos 15 caracteres incluindo o espaço.\n",
    "nome = 'Leonardo Campos'\n",
    "print(len(nome))"
   ]
  },
  {
   "cell_type": "markdown",
   "id": "f73eb689",
   "metadata": {},
   "source": [
    "### indice\n",
    "\n",
    "Para pegarmos qualquer indice da variavel, nos utilizamos o indice\n",
    "##### Exemplo:\n",
    "\n",
    "variavel[posicao]\n"
   ]
  },
  {
   "cell_type": "code",
   "execution_count": 16,
   "id": "23830d46",
   "metadata": {},
   "outputs": [
    {
     "name": "stdout",
     "output_type": "stream",
     "text": [
      "r\n",
      "o\n",
      "rdo@gm\n"
     ]
    }
   ],
   "source": [
    "# para verificarmos qual a posicao de cada caractere utilizamos a seguinte expressão\n",
    "nome = 'Leonardo'\n",
    "email = 'leonardo@gmail.com'\n",
    "print(nome[5])\n",
    "\n",
    "#podemos pegar o resultado de tras para frente com o -1 sendo a ultima posição\n",
    "print(nome[-1])\n",
    "\n",
    "#Podemos pegar um pedaço do texto utilizando \":\"\n",
    "print(email[5:11])"
   ]
  },
  {
   "cell_type": "code",
   "execution_count": 21,
   "id": "2e076642",
   "metadata": {},
   "outputs": [
    {
     "name": "stdout",
     "output_type": "stream",
     "text": [
      "Tamanho do email é de 18 caracteres\n",
      "Primeiro caracter do email é: l \n",
      "O ultimo caracter do email é: m \n",
      "Servidor do email é: gmail.com\n"
     ]
    }
   ],
   "source": [
    "#Exercicio de fixação\n",
    "\n",
    "print(f'Tamanho do email é de {str(len(email))} caracteres')\n",
    "print(f'Primeiro caracter do email é: {email[0]} ')\n",
    "print(f'O ultimo caracter do email é: {email[-1]} ')\n",
    "print(f'Servidor do email é: {email[9:]}')"
   ]
  },
  {
   "cell_type": "markdown",
   "id": "13fd5099",
   "metadata": {},
   "source": [
    "### .format"
   ]
  },
  {
   "cell_type": "code",
   "execution_count": 23,
   "id": "ed916bc7",
   "metadata": {},
   "outputs": [
    {
     "name": "stdout",
     "output_type": "stream",
     "text": [
      " O faturamento foi de: 1000, o custo foi de: 400, e o lucro foi: 600\n",
      " O faturamento foi de: 1000, o custo foi de: 400, e o lucro foi: 600. Lembrando que o custo foi de 400\n"
     ]
    }
   ],
   "source": [
    "faturamento = 1000\n",
    "custo = 400\n",
    "lucro = faturamento - custo\n",
    "\n",
    "#Utilizando .format\n",
    "print('O faturamento foi de: {}, o custo foi de: {}, e o lucro foi: {}' .format(faturamento,custo,lucro))\n",
    "\n",
    "#Para utilizarmos uma variavel novamente podemos inserir o indice de onde a variavel esta no format, porem devemos acrescentar\n",
    "#o indice em todos\n",
    "print('O faturamento foi de: {0}, o custo foi de: {1}, e o lucro foi: {2}. Lembrando que o custo foi de {1}' .format(faturamento,custo,lucro))\n"
   ]
  },
  {
   "cell_type": "markdown",
   "id": "46b61545",
   "metadata": {},
   "source": [
    "### Utillizando o ( %s  e %d )\n",
    "\n",
    "O %s usamos para indicar que iremos colocar uma string<br>\n",
    "O %d usamos para indicar que iremos colocar um numero"
   ]
  },
  {
   "cell_type": "code",
   "execution_count": 27,
   "id": "952ad52e",
   "metadata": {},
   "outputs": [
    {
     "name": "stdout",
     "output_type": "stream",
     "text": [
      "O faturamento foi de: 1000, o custo foi de: 400, e o lucro foi: 600\n"
     ]
    }
   ],
   "source": [
    "faturamento = 1000\n",
    "custo = 400\n",
    "lucro = faturamento - custo\n",
    "\n",
    "print('O faturamento foi de: %d, o custo foi de: %d, e o lucro foi: %d' % (faturamento,custo,lucro))"
   ]
  }
 ],
 "metadata": {
  "kernelspec": {
   "display_name": "Python 3 (ipykernel)",
   "language": "python",
   "name": "python3"
  },
  "language_info": {
   "codemirror_mode": {
    "name": "ipython",
    "version": 3
   },
   "file_extension": ".py",
   "mimetype": "text/x-python",
   "name": "python",
   "nbconvert_exporter": "python",
   "pygments_lexer": "ipython3",
   "version": "3.9.12"
  }
 },
 "nbformat": 4,
 "nbformat_minor": 5
}

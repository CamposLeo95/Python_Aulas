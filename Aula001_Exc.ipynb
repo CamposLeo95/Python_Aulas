{
 "cells": [
  {
   "cell_type": "markdown",
   "id": "ac4ba74b",
   "metadata": {},
   "source": [
    "# Exercicio do Modulo 1 - Operações, Variaveis e Input"
   ]
  },
  {
   "cell_type": "markdown",
   "id": "f33d374d",
   "metadata": {},
   "source": [
    "### Parte 1 - Operações e Variaveis\n",
    "\n",
    "Crie um programa que imprima os principais indicadores da Loja no ultimo ano. Obs faça usando variaveis.\n",
    "\n",
    "Valores do ultimo ano:\n",
    "\n",
    "Quantidade de vendas Coca = 150<br>\n",
    "Quantidade de vendas Pepsi = 130<br>\n",
    "Preço unitário da Coca = 1.50<br>\n",
    "Preço unitário da Pepsi = 1.50<br>\n",
    "Custo da loja = 2500.00\n"
   ]
  },
  {
   "cell_type": "code",
   "execution_count": 1,
   "id": "2d4ec2a7",
   "metadata": {},
   "outputs": [],
   "source": [
    "qtd_coca = 150\n",
    "qtd_pepsi = 130\n",
    "preco_coca = 1.5\n",
    "preco_pepsi = 1.5\n",
    "custo_loja = 2500"
   ]
  },
  {
   "cell_type": "markdown",
   "id": "923ee832",
   "metadata": {},
   "source": [
    "Qual foi o faturamento de Pepsi da Loja?"
   ]
  },
  {
   "cell_type": "code",
   "execution_count": 2,
   "id": "d300adcd",
   "metadata": {},
   "outputs": [
    {
     "name": "stdout",
     "output_type": "stream",
     "text": [
      "195.0\n"
     ]
    }
   ],
   "source": [
    "faturamento_pepsi = qtd_pepsi * preco_pepsi\n",
    "print(faturamento_pepsi)"
   ]
  },
  {
   "cell_type": "markdown",
   "id": "8f659e2b",
   "metadata": {},
   "source": [
    "Qual foi o faturamento de Coca da Loja?"
   ]
  },
  {
   "cell_type": "code",
   "execution_count": 3,
   "id": "d5e07ae0",
   "metadata": {},
   "outputs": [
    {
     "name": "stdout",
     "output_type": "stream",
     "text": [
      "225.0\n"
     ]
    }
   ],
   "source": [
    "faturamento_coca = qtd_coca * preco_coca\n",
    "print(faturamento_coca)"
   ]
  },
  {
   "cell_type": "markdown",
   "id": "da8d368b",
   "metadata": {},
   "source": [
    "Qual foi o lucro da Loja?"
   ]
  },
  {
   "cell_type": "code",
   "execution_count": 4,
   "id": "91e95057",
   "metadata": {},
   "outputs": [
    {
     "name": "stdout",
     "output_type": "stream",
     "text": [
      "-2080.0\n"
     ]
    }
   ],
   "source": [
    "lucro_loja = (faturamento_coca + faturamento_pepsi) - custo_loja\n",
    "print(lucro_loja)"
   ]
  },
  {
   "cell_type": "markdown",
   "id": "dc041680",
   "metadata": {},
   "source": [
    "Qual foi a margem da Loja?"
   ]
  },
  {
   "cell_type": "code",
   "execution_count": 5,
   "id": "2152f6ec",
   "metadata": {},
   "outputs": [
    {
     "name": "stdout",
     "output_type": "stream",
     "text": [
      "-4.9523809523809526\n"
     ]
    }
   ],
   "source": [
    "margem = lucro_loja / (faturamento_coca + faturamento_pepsi)\n",
    "print(margem)"
   ]
  },
  {
   "cell_type": "markdown",
   "id": "95f85cce",
   "metadata": {},
   "source": [
    "### Parte 2 - Inputs e Strings\n",
    "\n",
    "Codigos para as bebidas<br>\n",
    "Coca  → BEB1300543<br>\n",
    "Pepsi → BEB1300545<br>\n",
    "Vinho Primitivo → BAC1546001<br>\n",
    "Vodka Sminorff →  BAC1767502<br>"
   ]
  },
  {
   "cell_type": "code",
   "execution_count": 8,
   "id": "e3d21c0f",
   "metadata": {},
   "outputs": [
    {
     "name": "stdout",
     "output_type": "stream",
     "text": [
      "Insira o código da bebida: BAC1546001\n",
      "True\n"
     ]
    }
   ],
   "source": [
    "codigo = input(\"Insira o código da bebida: \")\n",
    "print(\"BAC\" in codigo)"
   ]
  }
 ],
 "metadata": {
  "kernelspec": {
   "display_name": "Python 3 (ipykernel)",
   "language": "python",
   "name": "python3"
  },
  "language_info": {
   "codemirror_mode": {
    "name": "ipython",
    "version": 3
   },
   "file_extension": ".py",
   "mimetype": "text/x-python",
   "name": "python",
   "nbconvert_exporter": "python",
   "pygments_lexer": "ipython3",
   "version": "3.9.12"
  }
 },
 "nbformat": 4,
 "nbformat_minor": 5
}

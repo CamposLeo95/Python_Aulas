{
 "cells": [
  {
   "cell_type": "markdown",
   "id": "bfa93cbb",
   "metadata": {},
   "source": [
    "# Listas em Python\n",
    "\n",
    "## Estrutura:\n",
    "\n",
    "lista = [valor, valor, valor, valor, ...]\n",
    "\n",
    "- Lista é um dos objetos mais importantes de Python, por isso vamos trabalhar bastante neles\n",
    "- Quando importamos uma base de dados para o Python, normalmente ele é lido como uma \"lista\" ou como alguma \"variação de lista\"\n",
    "- Listas em Python foram feitas para serem homogêneas, apesar de aceitarem valores heterogêneos\n",
    "- Exemplos de Lista:"
   ]
  },
  {
   "cell_type": "code",
   "execution_count": 1,
   "id": "584463e1",
   "metadata": {},
   "outputs": [],
   "source": [
    "#Listas de Produtos de uma Loja:\n",
    "\n",
    "produtos = ['tv', 'celular', 'mouse', 'teclado', 'tablet']"
   ]
  },
  {
   "cell_type": "code",
   "execution_count": 2,
   "id": "2041822f",
   "metadata": {},
   "outputs": [],
   "source": [
    "#Lista de Unidades Vendidas de cada Produto da Loja\n",
    "\n",
    "vendas = [1000, 1500, 350, 270, 900]"
   ]
  },
  {
   "cell_type": "code",
   "execution_count": 3,
   "id": "8cb0b85d",
   "metadata": {
    "scrolled": true
   },
   "outputs": [
    {
     "name": "stdout",
     "output_type": "stream",
     "text": [
      "O valor de vendas de tablet foi de 1200\n"
     ]
    }
   ],
   "source": [
    "#Alterando os valores das listas\n",
    "vendas[4] = 1200\n",
    "print('O valor de vendas de {} foi de {}'.format(produtos[4], vendas[4]))"
   ]
  },
  {
   "cell_type": "markdown",
   "id": "aa5da456",
   "metadata": {},
   "source": [
    "# Como descobrir o índice de um item de uma lista?\n",
    "\n",
    "i = lista.index('item')\n",
    "\n",
    "Exemplo:\n",
    "\n",
    "Digamos que você puxou do Banco de Dados da sua empresa uma lista com todos os produtos que a empresa vende e a quantidade em estoque de todos eles."
   ]
  },
  {
   "cell_type": "code",
   "execution_count": 4,
   "id": "440e99bf",
   "metadata": {},
   "outputs": [
    {
     "name": "stdout",
     "output_type": "stream",
     "text": [
      "2\n"
     ]
    }
   ],
   "source": [
    "produtos = ['tv', 'celular', 'mouse', 'teclado', 'tablet']\n",
    "vendas = [1000, 1500, 350, 270, 900]\n",
    "\n",
    "#Para encontrar um item em determinada lista utilizamos o .index('nome')\n",
    "\n",
    "i = produtos.index('mouse')\n",
    "print(i)"
   ]
  },
  {
   "cell_type": "code",
   "execution_count": 5,
   "id": "d0850d0c",
   "metadata": {},
   "outputs": [
    {
     "name": "stdout",
     "output_type": "stream",
     "text": [
      "Digite o nome do produto: celular\n",
      "Temos 1500 do produto celular em estoque.\n"
     ]
    }
   ],
   "source": [
    "#criando um programa para ler o item e mostrar o produto\n",
    "\n",
    "produto = input('Digite o nome do produto: ')\n",
    "\n",
    "if produto in produtos:\n",
    "    i = produtos.index(produto)\n",
    "    print('Temos {} do produto {} em estoque.'.format(vendas[i], produto))\n",
    "else:\n",
    "    print('Produto não encontrado!')"
   ]
  },
  {
   "cell_type": "markdown",
   "id": "57281266",
   "metadata": {},
   "source": [
    "# Adicionar e Remover itens de uma lista\n",
    "\n",
    "Adicionar:<br>\n",
    "lista.append(item)\n",
    "\n",
    "Remover:<br>\n",
    "item_removido = lista.pop(indice)<br>\n",
    "lista.remove(item)\n",
    "\n",
    "Digamos que você está construindo o controle de produtos da Apple.<br>\n",
    "E a Apple lançou o IPhone 11 e irá tirar dos seus estoques o IPhone X"
   ]
  },
  {
   "cell_type": "code",
   "execution_count": 12,
   "id": "8749433d",
   "metadata": {},
   "outputs": [
    {
     "name": "stdout",
     "output_type": "stream",
     "text": [
      "['apple tv', 'mac', 'iphone x', 'IPad', 'apple watch', 'mac book', 'airpods', 'iphone 11']\n",
      "['apple tv', 'iphone x', 'IPad', 'apple watch', 'mac book', 'airpods', 'iphone 11']\n",
      "['apple tv', 'IPad', 'apple watch', 'mac book', 'airpods', 'iphone 11']\n",
      "removemos o produto iphone x da lista\n"
     ]
    }
   ],
   "source": [
    "produtos = ['apple tv', 'mac', 'iphone x', 'IPad', 'apple watch', 'mac book', 'airpods']\n",
    "\n",
    "#Para adicionar um item na lista\n",
    "produtos.append('iphone 11')\n",
    "print(produtos)\n",
    "\n",
    "#Para removermos um item da lista\n",
    "produtos.remove('mac')\n",
    "print(produtos)\n",
    "\n",
    "item_removido = produtos.pop(1)\n",
    "print(produtos)\n",
    "print('removemos o produto {} da lista'.format(item_removido))\n"
   ]
  },
  {
   "cell_type": "markdown",
   "id": "2de70df3",
   "metadata": {},
   "source": [
    "## Existem 2 formas de tratar o erro:\n",
    "\n",
    "### Try ou If\n",
    "\n",
    "1. Criar um if para evitar que ele aconteça\n",
    "\n",
    "2. Esperar que ele possa acontecer e tratar caso o erro aconteça com:"
   ]
  },
  {
   "cell_type": "code",
   "execution_count": 19,
   "id": "d445d136",
   "metadata": {
    "scrolled": true
   },
   "outputs": [
    {
     "name": "stdout",
     "output_type": "stream",
     "text": [
      "produto removido\n",
      "['apple tv', 'mac', 'iphone x', 'apple watch', 'mac book', 'airpods']\n"
     ]
    }
   ],
   "source": [
    "#podemos Utilizar o try.\n",
    "\n",
    "# o try vai tentar executar uma determinada ação e caso não de certo ela vai para o except, este que é obrigatorio\n",
    "\n",
    "produtos = ['apple tv', 'mac', 'iphone x', 'IPad', 'apple watch', 'mac book', 'airpods']\n",
    "\n",
    "try:\n",
    "    #tentar fazer   \n",
    "    produtos.remove('IPad')\n",
    "    print('produto removido')\n",
    "    print(produtos)\n",
    "except:\n",
    "    #Caso não de certo \n",
    "    print('O produto não existe')"
   ]
  },
  {
   "cell_type": "markdown",
   "id": "2d88598e",
   "metadata": {},
   "source": [
    "# Algumas Funções Básicas de Lista\n",
    "\n",
    "## Tamanho da Lista\n",
    "\n",
    "tamanho = len(lista)"
   ]
  },
  {
   "cell_type": "code",
   "execution_count": 28,
   "id": "d9bcf1d0",
   "metadata": {},
   "outputs": [
    {
     "name": "stdout",
     "output_type": "stream",
     "text": [
      "7\n"
     ]
    }
   ],
   "source": [
    "produtos = ['apple tv', 'mac', 'iphone x', 'IPad', 'apple watch', 'mac book', 'airpods']\n",
    "\n",
    "qtd_produtos = len(produtos)\n",
    "print(qtd_produtos)"
   ]
  },
  {
   "cell_type": "markdown",
   "id": "038d01b6",
   "metadata": {},
   "source": [
    "## Maior e Menor Valor\n",
    "\n",
    "maior = max(lista)\n",
    "\n",
    "menor = min(lista)"
   ]
  },
  {
   "cell_type": "code",
   "execution_count": 32,
   "id": "3b03664a",
   "metadata": {},
   "outputs": [
    {
     "name": "stdout",
     "output_type": "stream",
     "text": [
      "mais vendido 2 produto\n",
      "menos vendido 5 produto\n",
      "o maior produto é iphone x\n",
      "o menor produto é mac book\n"
     ]
    }
   ],
   "source": [
    "vendas = [1000, 1500, 15000, 270, 900, 100, 1200]\n",
    "\n",
    "i_maior = vendas.index(max(vendas))\n",
    "print(f'mais vendido {i_maior} produto')\n",
    "\n",
    "i_menor = vendas.index(min(vendas))\n",
    "print(f'menos vendido {i_menor} produto')\n",
    "\n",
    "# Qual o item mais vendido?\n",
    "print('o maior produto é {}'.format(produtos[i_maior]))\n",
    "\n",
    "# Qual o item menos vendido?\n",
    "print('o menor produto é {}'.format(produtos[i_menor]))"
   ]
  },
  {
   "cell_type": "markdown",
   "id": "5811ad17",
   "metadata": {},
   "source": [
    "# Juntar Listas, Ordenar e Cuidados Especiais\n",
    "\n",
    "### 2 formas:\n",
    "\n",
    "- lista1.extend(lista2)\n",
    "- lista_nova = lista1 + lista2\n",
    "\n",
    "Obs: o Método .append não junta listas, mas adiciona um valor no final da lista"
   ]
  },
  {
   "cell_type": "code",
   "execution_count": 36,
   "id": "35ee5b88",
   "metadata": {},
   "outputs": [
    {
     "name": "stdout",
     "output_type": "stream",
     "text": [
      "['apple tv', 'mac', 'iphone x', 'iphone 11', 'IPad', 'apple watch', 'mac book', 'airpods', 'iphone 12', 'ioculos']\n",
      "['apple tv', 'mac', 'iphone x', 'iphone 11', 'IPad', 'apple watch', 'mac book', 'airpods', 'iphone 12', 'ioculos']\n"
     ]
    }
   ],
   "source": [
    "produtos = ['apple tv', 'mac', 'iphone x', 'iphone 11', 'IPad', 'apple watch', 'mac book', 'airpods']\n",
    "novos_produtos = ['iphone 12', 'ioculos']\n",
    "\n",
    "#Desta forma criamos uma nova lista\n",
    "lista_nova = produtos + novos_produtos\n",
    "print(lista_nova)\n",
    "\n",
    "#Desta forma transformamos a lista antiga\n",
    "produtos.extend(novos_produtos)\n",
    "print(produtos)\n"
   ]
  },
  {
   "cell_type": "markdown",
   "id": "73d0c60a",
   "metadata": {},
   "source": [
    "### Cuidado:\n",
    "\n",
    "[1] + [2] não é a mesma coisa que 1 + 2, então cuidado sempre com o formato dos valores na hora de fazer operações"
   ]
  },
  {
   "cell_type": "code",
   "execution_count": 42,
   "id": "2054353d",
   "metadata": {},
   "outputs": [
    {
     "name": "stdout",
     "output_type": "stream",
     "text": [
      "[20000, 15000]\n",
      "35000\n"
     ]
    }
   ],
   "source": [
    "vendas = [1000, 1500, 15000, 20000, 270, 900, 100, 1200]\n",
    "vendas_iphonex = [15000]\n",
    "vendas_iphone11 = [20000]\n",
    "\n",
    "print(vendas_iphone11 + vendas_iphonex)\n",
    "print(vendas_iphone11[0] + vendas_iphonex[0])"
   ]
  },
  {
   "cell_type": "markdown",
   "id": "a56f0c47",
   "metadata": {},
   "source": [
    "## Ordenar listas\n",
    "\n",
    "lista.sort()\n",
    "\n",
    "Cuidado pois se tiver listas interligadas não o metodo sort não ordenara as 2 listas na mesma sequencia"
   ]
  },
  {
   "cell_type": "code",
   "execution_count": 45,
   "id": "63cab93d",
   "metadata": {},
   "outputs": [
    {
     "name": "stdout",
     "output_type": "stream",
     "text": [
      "[100, 270, 900, 1000, 1200, 1500, 15000, 20000]\n",
      "[20000, 15000, 1500, 1200, 1000, 900, 270, 100]\n"
     ]
    }
   ],
   "source": [
    "vendas = [1000, 1500, 15000, 20000, 270, 900, 100, 1200]\n",
    "\n",
    "vendas.sort()\n",
    "print(vendas)\n",
    "\n",
    "vendas.sort(reverse = True)\n",
    "print(vendas)"
   ]
  },
  {
   "cell_type": "markdown",
   "id": "0abef094",
   "metadata": {},
   "source": [
    "## Metodo join\n",
    "### Separar listas\n",
    "\n",
    "2 Opções\n",
    "\n",
    "- print\n",
    "- metodo join → texto.join(lista)"
   ]
  },
  {
   "cell_type": "code",
   "execution_count": 9,
   "id": "f25325a1",
   "metadata": {},
   "outputs": [
    {
     "name": "stdout",
     "output_type": "stream",
     "text": [
      "apple tv, mac, iphone x, iphone 11, IPad, apple watch, mac book, airpods\n",
      "apple tv\n",
      "mac\n",
      "iphone x\n",
      "iphone 11\n",
      "IPad\n",
      "apple watch\n",
      "mac book\n",
      "airpods\n"
     ]
    }
   ],
   "source": [
    "produtos = ['apple tv', 'mac', 'iphone x', 'iphone 11', 'IPad', 'apple watch', 'mac book', 'airpods']\n",
    "\n",
    "#o Texto inserido antes do comando join é o separador.\n",
    "print(', '.join(produtos))\n",
    "\n",
    "# Para separar por linhas usamos o \"\\n\" que é o mesmo que enter.\n",
    "print('\\n'.join(produtos))\n"
   ]
  },
  {
   "cell_type": "markdown",
   "id": "06eb5691",
   "metadata": {},
   "source": [
    "## Metodo split\n",
    "### Juntar texto em uma lista\n",
    "\n",
    "usado para juntarmos uma lista\n",
    "\n",
    "variavel = texto.split(separador)"
   ]
  },
  {
   "cell_type": "code",
   "execution_count": 7,
   "id": "e15cd577",
   "metadata": {},
   "outputs": [
    {
     "name": "stdout",
     "output_type": "stream",
     "text": [
      "['apple tv', 'mac', 'iphone x', 'iphone 11', 'IPad', 'apple watch', 'mac book', 'airpods']\n"
     ]
    }
   ],
   "source": [
    "lista = 'apple tv, mac, iphone x, iphone 11, IPad, apple watch, mac book, airpods'\n",
    "\n",
    "#O separador são os caracteres do texto que voce utilizara para separar igual no PowerBI\n",
    "nova_lista = lista.split(', ')\n",
    "\n",
    "print(nova_lista)"
   ]
  },
  {
   "cell_type": "markdown",
   "id": "58f26dac",
   "metadata": {},
   "source": [
    "# Copiar e \"Igualdade\" de Listas\n",
    "\n",
    "### Estrutura:\n",
    "\n",
    "- Quando fazemos:<br>\n",
    "lista2 = lista1<br>\n",
    "não estamos criando uma lista nova, mas estamos atribuindo outra variável à mesma lista.\n",
    "\n",
    "- Se quisermos copiar lista devemos fazer<br>\n",
    "lista2 = lista1.copy()<br>\n",
    "ou entao<br>\n",
    "lista2 = lista1[:]\n",
    "\n",
    "Para entender bem isso, vamos ver na prática:"
   ]
  },
  {
   "cell_type": "code",
   "execution_count": 14,
   "id": "0c25431c",
   "metadata": {},
   "outputs": [
    {
     "name": "stdout",
     "output_type": "stream",
     "text": [
      "['ipad', 'iphone 13', 'apple tv']\n",
      "['ipad', 'iphone x', 'apple tv']\n",
      "['ipad', 'iphone 14', 'apple tv']\n",
      "['ipad', 'iphone 11', 'apple tv']\n"
     ]
    }
   ],
   "source": [
    "#podemos utilizar a primeira forma com colchetes e ponto\n",
    "\n",
    "lista = ['ipad', 'iphone x', 'apple tv']\n",
    "lista2 = lista[:]\n",
    "\n",
    "lista[1] = 'iphone 11'\n",
    "\n",
    "#Ou podemos utilizar a segunda forma com o .copy()\n",
    "lista3 = ['ipad', 'iphone 14', 'apple tv']\n",
    "lista4 = lista.copy()\n",
    "\n",
    "lista[1] = 'iphone 13'\n",
    "\n",
    "print(lista)\n",
    "print(lista2)\n",
    "print(lista3)\n",
    "print(lista4)"
   ]
  }
 ],
 "metadata": {
  "kernelspec": {
   "display_name": "Python 3 (ipykernel)",
   "language": "python",
   "name": "python3"
  },
  "language_info": {
   "codemirror_mode": {
    "name": "ipython",
    "version": 3
   },
   "file_extension": ".py",
   "mimetype": "text/x-python",
   "name": "python",
   "nbconvert_exporter": "python",
   "pygments_lexer": "ipython3",
   "version": "3.9.12"
  }
 },
 "nbformat": 4,
 "nbformat_minor": 5
}

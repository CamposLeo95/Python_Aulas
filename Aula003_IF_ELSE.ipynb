{
 "cells": [
  {
   "cell_type": "markdown",
   "id": "c1c29bfa",
   "metadata": {},
   "source": [
    "### 1. UTILIZANDO IF e ELSE"
   ]
  },
  {
   "cell_type": "markdown",
   "id": "e36e557b",
   "metadata": {},
   "source": [
    "#### Comparadores \n",
    "-- ==   →        Igual <br>\n",
    "-- !=   →        Diferente <br>\n",
    "-- >    →        Maior (>= Maior igual) <br>\n",
    "-- <    →        Menor (<= Menor igual) <br>\n",
    "-- in   →        Texto existe dentro de outro <br>\n",
    "-- not  →       Verifica o contrario"
   ]
  },
  {
   "cell_type": "code",
   "execution_count": 2,
   "id": "aa85bf3a",
   "metadata": {},
   "outputs": [
    {
     "name": "stdout",
     "output_type": "stream",
     "text": [
      "batemos a meta, quantidade vendida: 50000\n"
     ]
    }
   ],
   "source": [
    "#Construindo um programa que leia uma meta e diga se batemos ou não esta meta!\n",
    "\n",
    "meta = 50000\n",
    "qtd_vendida = 50000\n",
    "\n",
    "if qtd_vendida >= meta:\n",
    "    print('batemos a meta, quantidade vendida: {}' .format(qtd_vendida))\n",
    "else:\n",
    "    print(f'Não alcançamos a meta de {meta}, a quantidade vendida foi de {qtd_vendida}')"
   ]
  },
  {
   "cell_type": "markdown",
   "id": "bc8b7be9",
   "metadata": {},
   "source": [
    "### 1.1 Utilizanado IF dentro de outro IF"
   ]
  },
  {
   "cell_type": "code",
   "execution_count": 22,
   "id": "91c79bdb",
   "metadata": {},
   "outputs": [
    {
     "name": "stdout",
     "output_type": "stream",
     "text": [
      "taxa cobrada 0.02 \n"
     ]
    }
   ],
   "source": [
    "# O fundo bancario se compromete a entregar no minimo 5% de retorno ao ano.\n",
    "# Caso não consiga entregar 5%, então não pode cobrar a taxa dos seus investidores.\n",
    "# Caso o fundo consiga entregar mais de 5%, ele cobrará 2% de taxa\n",
    "# Caso consiga mais de 20% de retorno, então cobrará 4% de taxa dos seus investidores\n",
    "\n",
    "meta = 0.05\n",
    "taxa = 0\n",
    "rendimento = 0.06\n",
    "\n",
    "#rendimento maior que a meta de 5%---------------------\n",
    "if rendimento > meta: \n",
    "    #rendimento maior que 20%----------------\n",
    "    if rendimento > 0.2:\n",
    "        taxa = 0.04\n",
    "        print('taxa cobrada {} '.format(taxa))\n",
    "    #rendimento menor que 20%----------------\n",
    "    else:\n",
    "        taxa = 0.02\n",
    "        print('taxa cobrada {} '.format(taxa))        \n",
    "#rendimento menor que a meta de 5%--------------------\n",
    "else:\n",
    "    taxa = 0\n",
    "    print('Taxa cobrada {} ' .format(taxa))\n"
   ]
  },
  {
   "cell_type": "markdown",
   "id": "ca8977c4",
   "metadata": {},
   "source": [
    "### 1.2 Utilizando o ELIF"
   ]
  },
  {
   "cell_type": "code",
   "execution_count": 29,
   "id": "241d91d5",
   "metadata": {},
   "outputs": [
    {
     "name": "stdout",
     "output_type": "stream",
     "text": [
      "Ganhou 3570.0000000000005 de bonus\n"
     ]
    }
   ],
   "source": [
    "# Para cargos de vendedores\n",
    "\n",
    "# Se vender abaixo da meta não ganha bonus\n",
    "# Se vender acima da meta ganha um bonus de 3%\n",
    "# Se vender acima do dobro da meta ganha 7% de bonus\n",
    "\n",
    "meta = 20000\n",
    "qtd_vendida = 51000\n",
    "bonus = 0\n",
    "\n",
    "if qtd_vendida < meta:\n",
    "    bonus = 0\n",
    "    print('Ganhou {} de bonus' .format(bonus))\n",
    "elif qtd_vendida > (meta * 2):\n",
    "    bonus = 0.07 * qtd_vendida\n",
    "    print('Ganhou {} de bonus' .format(bonus))\n",
    "else:\n",
    "    bonus = 0.03 * qtd_vendida\n",
    "    print(f'Ganhou {bonus} de bonus')\n",
    "    "
   ]
  },
  {
   "cell_type": "markdown",
   "id": "22a49a5e",
   "metadata": {},
   "source": [
    "### 1.3 Utilizando o PASS"
   ]
  },
  {
   "cell_type": "code",
   "execution_count": 34,
   "id": "c17f284d",
   "metadata": {},
   "outputs": [
    {
     "name": "stdout",
     "output_type": "stream",
     "text": [
      "Email invalido\n"
     ]
    }
   ],
   "source": [
    "# podemos utilizar o PASS  para dizermos ao programa que não queremos fazer mais nada após a condição ter sido atendida\n",
    "nome = 'Leonardo Campos'\n",
    "email = 'leo.camposmail.com'\n",
    "\n",
    "if email != 'leo.campos@gmail.com':\n",
    "    print('Email invalido')\n",
    "else:\n",
    "    pass"
   ]
  },
  {
   "cell_type": "markdown",
   "id": "2141c6bb",
   "metadata": {},
   "source": [
    "### 1.4 Utilizando AND e OR "
   ]
  },
  {
   "cell_type": "markdown",
   "id": "e776b15d",
   "metadata": {},
   "source": [
    "1. Se o funcionario vendeu mais do que a meta de vendas e a loja bate a meta de vendas da loja, funcionario receve 3% da sua venda como bonus<br>\n",
    "\n",
    "Caso o funcionario tenha batido a meta de vendas individual dele, mas a loja não tenha batido a meta de vendas da loja como um todo o funcionario não recebe bonus"
   ]
  },
  {
   "cell_type": "code",
   "execution_count": 51,
   "id": "3adb766c",
   "metadata": {
    "scrolled": true
   },
   "outputs": [
    {
     "name": "stdout",
     "output_type": "stream",
     "text": [
      "Bonus recebido é de: 36.0\n"
     ]
    }
   ],
   "source": [
    "meta_funcionario = 1000\n",
    "meta_loja = 5000\n",
    "venda_funcionario = 1200\n",
    "venda_loja = 6000\n",
    "bonus = 0\n",
    "\n",
    "if venda_funcionario > meta_funcionario and venda_loja > meta_loja:\n",
    "    bonus = 0.03 * venda_funcionario\n",
    "    print(f'Bonus recebido é de: {bonus}')\n",
    "else:\n",
    "    print('A meta não foi atingida!')"
   ]
  },
  {
   "cell_type": "markdown",
   "id": "80875c0a",
   "metadata": {},
   "source": [
    "2. Todo mes os diretores da empresa fazem uma avaliação qualitativa de todos os funcionarios. Nessa avaliacao os diretores dao ma nota de 0 a10 ao funcionario. <br>\n",
    "Se a nota do funcionario foir 9 ou 10, ele tambem recebe o bonus de vendas.(Os bonus nao sao cumulativos)"
   ]
  },
  {
   "cell_type": "code",
   "execution_count": 52,
   "id": "e8af32a7",
   "metadata": {},
   "outputs": [
    {
     "name": "stdout",
     "output_type": "stream",
     "text": [
      "Bonus recebido no valor de: 36.0\n"
     ]
    }
   ],
   "source": [
    "nota_funcionario = 8\n",
    "\n",
    "#verificando se as metas foram atingidas\n",
    "meta_atingida = venda_funcionario > meta_funcionario and venda_loja > meta_loja\n",
    "\n",
    "if meta_atingida or nota_funcionario >= 9:\n",
    "    bonus = 0.03 * venda_funcionario\n",
    "    print(f'Bonus recebido no valor de: {bonus}')\n",
    "else:\n",
    "    print('Meta ou nota não atingida bonus no valor de {}' .format(bonus))"
   ]
  },
  {
   "cell_type": "markdown",
   "id": "4b9805dd",
   "metadata": {},
   "source": [
    "### Comparações contra intuitivas\n",
    "\n",
    "As comparações contra intuitivas são usadas para verificar se uma determinada ação foi executada.<br><br>\n",
    "Neste exemplo abaixo usamos o \" IF faturamento and custo:\" para verificar se ambos os inputs foram devidamente preenchidos!"
   ]
  },
  {
   "cell_type": "code",
   "execution_count": 56,
   "id": "6aaa1436",
   "metadata": {},
   "outputs": [
    {
     "name": "stdout",
     "output_type": "stream",
     "text": [
      "Digite o faturamento: 150\n",
      "Digite o custo: 44\n",
      "O Lucro é: 106\n"
     ]
    }
   ],
   "source": [
    "faturamento = input('Digite o faturamento: ')\n",
    "custo = input('Digite o custo: ')\n",
    "\n",
    "if faturamento and custo:\n",
    "    print('O Lucro é: {}' .format((int(faturamento) - int(custo))))\n",
    "else:\n",
    "    print('Preencha corretamente o faturamento e o custo!')"
   ]
  }
 ],
 "metadata": {
  "kernelspec": {
   "display_name": "Python 3 (ipykernel)",
   "language": "python",
   "name": "python3"
  },
  "language_info": {
   "codemirror_mode": {
    "name": "ipython",
    "version": 3
   },
   "file_extension": ".py",
   "mimetype": "text/x-python",
   "name": "python",
   "nbconvert_exporter": "python",
   "pygments_lexer": "ipython3",
   "version": "3.9.12"
  }
 },
 "nbformat": 4,
 "nbformat_minor": 5
}

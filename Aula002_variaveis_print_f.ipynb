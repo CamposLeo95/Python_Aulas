{
 "cells": [
  {
   "cell_type": "markdown",
   "id": "5a710716",
   "metadata": {},
   "source": [
    "## Tipos de Variaveis em Python"
   ]
  },
  {
   "cell_type": "markdown",
   "id": "b949d3ee",
   "metadata": {},
   "source": [
    "Tipos:<br><br>\n",
    "Int → Numeros Inteiros<br>\n",
    "String → Texto<br>\n",
    "Float → Numeros com casas decimais<br>\n",
    "bool → True or False"
   ]
  },
  {
   "cell_type": "code",
   "execution_count": 4,
   "id": "12b946e7",
   "metadata": {},
   "outputs": [
    {
     "data": {
      "text/plain": [
       "int"
      ]
     },
     "execution_count": 4,
     "metadata": {},
     "output_type": "execute_result"
    }
   ],
   "source": [
    "faturamento = 1000\n",
    "type(faturamento)"
   ]
  },
  {
   "cell_type": "code",
   "execution_count": 5,
   "id": "fcfbe4e3",
   "metadata": {},
   "outputs": [
    {
     "data": {
      "text/plain": [
       "float"
      ]
     },
     "execution_count": 5,
     "metadata": {},
     "output_type": "execute_result"
    }
   ],
   "source": [
    "faturamento = 1000.00\n",
    "type(faturamento)"
   ]
  },
  {
   "cell_type": "code",
   "execution_count": 6,
   "id": "0e5152e8",
   "metadata": {},
   "outputs": [
    {
     "data": {
      "text/plain": [
       "str"
      ]
     },
     "execution_count": 6,
     "metadata": {},
     "output_type": "execute_result"
    }
   ],
   "source": [
    "faturamento = '1000'\n",
    "type(faturamento)"
   ]
  },
  {
   "cell_type": "code",
   "execution_count": 8,
   "id": "8161e81b",
   "metadata": {},
   "outputs": [
    {
     "data": {
      "text/plain": [
       "bool"
      ]
     },
     "execution_count": 8,
     "metadata": {},
     "output_type": "execute_result"
    }
   ],
   "source": [
    "faturamento_bonus = True\n",
    "type(faturamento_bonus)"
   ]
  },
  {
   "cell_type": "markdown",
   "id": "6abff90d",
   "metadata": {},
   "source": [
    "### Concatenando textos "
   ]
  },
  {
   "cell_type": "code",
   "execution_count": 16,
   "id": "6f9bacb5",
   "metadata": {},
   "outputs": [
    {
     "name": "stdout",
     "output_type": "stream",
     "text": [
      "Faturamento da loja foi: 3000. O Custo da loja foi: 500. O lucro da loja foi: 2500\n"
     ]
    }
   ],
   "source": [
    "faturamento = 3000\n",
    "custo = 500\n",
    "lucro = faturamento - custo\n",
    "print('Faturamento da loja foi: ' + str(faturamento) + '. O Custo da loja foi: ' + str(custo) + '. O lucro da loja foi: ' + str(lucro))"
   ]
  },
  {
   "cell_type": "markdown",
   "id": "ad0527d3",
   "metadata": {},
   "source": [
    "### Metodo format"
   ]
  },
  {
   "cell_type": "code",
   "execution_count": 14,
   "id": "72cbcf7f",
   "metadata": {},
   "outputs": [
    {
     "name": "stdout",
     "output_type": "stream",
     "text": [
      "O faturamento da loja foi: 2000. O custo da loja foi: 500. E o lucro da loja foi: 1500\n"
     ]
    }
   ],
   "source": [
    "faturamento = 2000\n",
    "custo = 500\n",
    "lucro = faturamento - custo\n",
    "\n",
    "print('O faturamento da loja foi: {}. O custo da loja foi: {}. E o lucro da loja foi: {}' .format(faturamento, custo, lucro))\n"
   ]
  },
  {
   "cell_type": "markdown",
   "id": "27525e83",
   "metadata": {},
   "source": [
    "### F-string"
   ]
  },
  {
   "cell_type": "code",
   "execution_count": 17,
   "id": "7a63b249",
   "metadata": {},
   "outputs": [
    {
     "name": "stdout",
     "output_type": "stream",
     "text": [
      "O faturamento da loja foi: 2000. O custo da loja foi: 500. E o lucro da loja foi: 1500\n"
     ]
    }
   ],
   "source": [
    "faturamento = 2000\n",
    "custo = 500\n",
    "lucro = faturamento - custo\n",
    "\n",
    "print(f'O faturamento da loja foi: {faturamento}. O custo da loja foi: {custo}. E o lucro da loja foi: {lucro}')"
   ]
  },
  {
   "cell_type": "markdown",
   "id": "9a7870c7",
   "metadata": {},
   "source": [
    "### Mudança de tipo de variavel"
   ]
  },
  {
   "cell_type": "code",
   "execution_count": 21,
   "id": "1d885270",
   "metadata": {},
   "outputs": [
    {
     "name": "stdout",
     "output_type": "stream",
     "text": [
      "Qual o valor faturado: 1000\n",
      "Qual o custo total: 400\n",
      " O lucro total é: 600.0\n"
     ]
    }
   ],
   "source": [
    "#Principais variavei\n",
    "\n",
    "#str → muda para string\n",
    "#int → muda para inteiro\n",
    "#float → muda para float\n",
    "\n",
    "fat = float(input(\"Qual o valor faturado: \"))\n",
    "custo = float(input(\"Qual o custo total: \"))\n",
    "lucro = fat - custo\n",
    "\n",
    "print(f'O lucro total é: {lucro}')"
   ]
  }
 ],
 "metadata": {
  "kernelspec": {
   "display_name": "Python 3 (ipykernel)",
   "language": "python",
   "name": "python3"
  },
  "language_info": {
   "codemirror_mode": {
    "name": "ipython",
    "version": 3
   },
   "file_extension": ".py",
   "mimetype": "text/x-python",
   "name": "python",
   "nbconvert_exporter": "python",
   "pygments_lexer": "ipython3",
   "version": "3.9.12"
  }
 },
 "nbformat": 4,
 "nbformat_minor": 5
}

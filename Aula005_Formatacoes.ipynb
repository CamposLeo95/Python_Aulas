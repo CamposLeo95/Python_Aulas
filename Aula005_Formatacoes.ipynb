{
 "cells": [
  {
   "cell_type": "markdown",
   "id": "aafb637f",
   "metadata": {},
   "source": [
    "# Format - Aula de Consulta\n",
    "\n",
    "### Como usar o format para criar formatações personalizadas em prints e textos."
   ]
  },
  {
   "cell_type": "raw",
   "id": "9786e304",
   "metadata": {},
   "source": [
    ":<\t\tAlinha o texto à esquerda (se tiver espaço na tela para isso)<br>\n",
    ":>\t\tAlinha o texto à direita (se tiver espaço na tela para isso)<br>\n",
    ":^\t\tAlinha o texto ao centro (se tiver espaço na tela para isso)<br>\n",
    ":+\t\tColoca o sinal sempre na frente do número (independente se é positivo ou negativo)<br>\n",
    ":,\t\tColoca a vírgula como separador de milhar<br>\n",
    ":_\t\tColoca o _ como separador de milhar<br>\n",
    ":e\t\tFormato Científico<br>\n",
    ":f\t\tNúmero com quantidade fixa de casas decimais<br>\n",
    ":x\t\tFormato HEX minúscula (para cores)<br>\n",
    ":X\t\tFormato HEX maiúscula (para cores)<br>\n",
    ":%\t\tFormato Percentual<br>"
   ]
  },
  {
   "cell_type": "code",
   "execution_count": 1,
   "id": "13896222",
   "metadata": {},
   "outputs": [
    {
     "name": "stdout",
     "output_type": "stream",
     "text": [
      "Meu e-mail não é lira@gmail.com                , show?\n"
     ]
    }
   ],
   "source": [
    "# Exemplo de Alinhamento\n",
    "\n",
    "email = 'lira@gmail.com'\n",
    "print('Meu e-mail não é {:<30}, show?'.format(email))"
   ]
  },
  {
   "cell_type": "code",
   "execution_count": 2,
   "id": "769b46d2",
   "metadata": {},
   "outputs": [
    {
     "name": "stdout",
     "output_type": "stream",
     "text": [
      "Faturamento foi +270 e lucro foi -230\n"
     ]
    }
   ],
   "source": [
    "# Exemplo de Edição de Sinal\n",
    "\n",
    "custo = 500\n",
    "faturamento = 270\n",
    "lucro = faturamento - custo\n",
    "print('Faturamento foi {:+} e lucro foi {:+}'.format(faturamento, lucro))"
   ]
  },
  {
   "cell_type": "code",
   "execution_count": 3,
   "id": "e3102de9",
   "metadata": {},
   "outputs": [
    {
     "name": "stdout",
     "output_type": "stream",
     "text": [
      "Faturamento foi +270 e lucro foi -230\n"
     ]
    }
   ],
   "source": [
    "# Exemplo de Separador de Milhar\n",
    "\n",
    "custo = 500\n",
    "faturamento = 270\n",
    "lucro = faturamento - custo\n",
    "print('Faturamento foi {:+} e lucro foi {:+}'.format(faturamento, lucro))"
   ]
  },
  {
   "cell_type": "code",
   "execution_count": 4,
   "id": "80b2d6ad",
   "metadata": {},
   "outputs": [
    {
     "name": "stdout",
     "output_type": "stream",
     "text": [
      "Faturamento foi 270.00 e lucro foi -230.000000\n"
     ]
    }
   ],
   "source": [
    "# Formato com casas Decimais fixas\n",
    "\n",
    "custo = 500\n",
    "faturamento = 270\n",
    "lucro = faturamento - custo\n",
    "print('Faturamento foi {:.2f} e lucro foi {:2f}'.format(faturamento, lucro))"
   ]
  },
  {
   "cell_type": "code",
   "execution_count": 5,
   "id": "d47cbb49",
   "metadata": {},
   "outputs": [
    {
     "name": "stdout",
     "output_type": "stream",
     "text": [
      "Margem de lucro foi de 61.54%\n"
     ]
    }
   ],
   "source": [
    "# Formato Percentual\n",
    "\n",
    "custo = 500\n",
    "faturamento = 1300\n",
    "lucro = faturamento - custo\n",
    "margem = lucro / faturamento\n",
    "print('Margem de lucro foi de {:.2%}'.format(margem))"
   ]
  },
  {
   "cell_type": "code",
   "execution_count": 6,
   "id": "fa916a67",
   "metadata": {},
   "outputs": [
    {
     "name": "stdout",
     "output_type": "stream",
     "text": [
      "Faturamento foi R$27,000.00 e lucro foi R$22,000.00\n",
      "R$22.000,00\n"
     ]
    }
   ],
   "source": [
    "\"\"\"\n",
    "Formato Moeda -> Combinação de Formatos\n",
    "\n",
    "Existem módulos/bibliotecas que vão facilitar isso, caso a gente queira, mas vamos ver como usar módulos mais a \n",
    "frente do curso. Por enquanto, se você precisar, pode fazer substituições em string.\n",
    "\"\"\"\n",
    "custo = 5000\n",
    "faturamento = 27000\n",
    "lucro = faturamento - custo\n",
    "print('Faturamento foi R${:,.2f} e lucro foi R${:,.2f}'.format(faturamento, lucro))\n",
    "\n",
    "#transformando no formato brasileiro\n",
    "\n",
    "lucro_texto = 'R${:_.2f}'.format(lucro)\n",
    "print(lucro_texto.replace('.', ',').replace('_', '.'))"
   ]
  },
  {
   "cell_type": "code",
   "execution_count": null,
   "id": "6d7507d9",
   "metadata": {},
   "outputs": [],
   "source": [
    "# Função round() para arredondar números, caso seja necessário\n",
    "\n",
    "imposto = 0.15758\n",
    "preco = 100\n",
    "valor_imposto = round(preco * imposto, 1)\n",
    "print('Imposto sobre o preço é de {}'.format(valor_imposto))"
   ]
  }
 ],
 "metadata": {
  "kernelspec": {
   "display_name": "Python 3 (ipykernel)",
   "language": "python",
   "name": "python3"
  },
  "language_info": {
   "codemirror_mode": {
    "name": "ipython",
    "version": 3
   },
   "file_extension": ".py",
   "mimetype": "text/x-python",
   "name": "python",
   "nbconvert_exporter": "python",
   "pygments_lexer": "ipython3",
   "version": "3.9.12"
  }
 },
 "nbformat": 4,
 "nbformat_minor": 5
}

{
 "cells": [
  {
   "cell_type": "markdown",
   "id": "05b4d1d4",
   "metadata": {},
   "source": [
    "## Estrutura de repetição\n",
    "\n",
    "funcionamento"
   ]
  },
  {
   "cell_type": "raw",
   "id": "31f3cc81",
   "metadata": {},
   "source": [
    "for i in range():\n",
    "    codigo a se repetir."
   ]
  },
  {
   "cell_type": "code",
   "execution_count": 1,
   "id": "235e0e31",
   "metadata": {},
   "outputs": [
    {
     "name": "stdout",
     "output_type": "stream",
     "text": [
      "0\n",
      "1\n",
      "2\n",
      "3\n",
      "4\n"
     ]
    }
   ],
   "source": [
    "for i in range(5):\n",
    "    print(i)"
   ]
  },
  {
   "cell_type": "markdown",
   "id": "d929c711",
   "metadata": {},
   "source": [
    "- Exemplo com uma lista de bebidas de um mercado"
   ]
  },
  {
   "cell_type": "code",
   "execution_count": 3,
   "id": "f2e58dc0",
   "metadata": {},
   "outputs": [
    {
     "name": "stdout",
     "output_type": "stream",
     "text": [
      "15000 unidades do produto Coca\n",
      "12000 unidades do produto Pepsi\n",
      "12000 unidades do produto Guaraná\n",
      "8000 unidades do produto Fanta\n",
      "6000 unidades do produto Dolly\n"
     ]
    }
   ],
   "source": [
    "produtos = ['Coca', 'Pepsi', 'Guaraná', 'Fanta', 'Dolly']\n",
    "producao = [15000, 12000, 12000, 8000, 6000]\n",
    "\n",
    "tamanho = len(produtos)\n",
    "\n",
    "for i in range(tamanho):\n",
    "    print('{} unidades do produto {}'.format(producao[i], produtos[i]))"
   ]
  },
  {
   "cell_type": "markdown",
   "id": "8316a804",
   "metadata": {},
   "source": [
    "### Usando para listas"
   ]
  },
  {
   "cell_type": "code",
   "execution_count": 1,
   "id": "b62ac0f4",
   "metadata": {},
   "outputs": [
    {
     "name": "stdout",
     "output_type": "stream",
     "text": [
      "Existe o produto: Coca\n",
      "Existe o produto: Pepsi\n",
      "Existe o produto: Guaraná\n",
      "Existe o produto: Fanta\n",
      "Existe o produto: Dolly\n"
     ]
    }
   ],
   "source": [
    "produtos = ['Coca', 'Pepsi', 'Guaraná', 'Fanta', 'Dolly']\n",
    "email = 'leocampos@gmail.com'\n",
    "\n",
    "for produto in produtos:\n",
    "    print(f'Existe o produto: {produto}')\n",
    "    \n",
    "#for character in email:\n",
    "    #print(character)"
   ]
  },
  {
   "cell_type": "markdown",
   "id": "345e54b8",
   "metadata": {},
   "source": [
    "## Usando o FOR + IF\n",
    "\n",
    "Estrutura:"
   ]
  },
  {
   "cell_type": "code",
   "execution_count": 16,
   "id": "e7fd0ca1",
   "metadata": {},
   "outputs": [
    {
     "name": "stdout",
     "output_type": "stream",
     "text": [
      "A porcentagem de metas batidas foi de: 36.84%\n"
     ]
    }
   ],
   "source": [
    "vendas = [1500, 800, 644, 1200, 700, 650, 899, 324, 1600, 450, 1300, 1000, 707, 488, 987, 1430, 478, 444, 1250]\n",
    "meta = 1000\n",
    "\n",
    "qtd_metas = 0\n",
    "\n",
    "for venda in vendas:\n",
    "    if venda >= 1000:\n",
    "        qtd_metas += 1\n",
    "\n",
    "qtd_funcionarios = len(vendas)\n",
    "print('A porcentagem de metas batidas foi de: {:.2%}'.format(qtd_metas / qtd_funcionarios))"
   ]
  },
  {
   "cell_type": "markdown",
   "id": "5b3622db",
   "metadata": {},
   "source": [
    "## Enumerate\n",
    "Estrutura\n",
    "\n",
    "O enumarate permite que você pegue o indice de cada item da lista."
   ]
  },
  {
   "cell_type": "raw",
   "id": "f6abd42d",
   "metadata": {},
   "source": [
    "for i, item in enumerate(lista):\n",
    "    print(f'{i} indice e o item da lista{item}')"
   ]
  },
  {
   "cell_type": "code",
   "execution_count": 20,
   "id": "85ace8b5",
   "metadata": {},
   "outputs": [],
   "source": [
    "funcionarios = ['Maria', 'José', 'Antônio', 'João', 'Francisco', 'Ana', 'Luiz', 'Paulo', 'Carlos', 'Manoel', 'Pedro', 'Francisca', 'Marcos', 'Raimundo', 'Sebastião', 'Antônia', 'Marcelo', 'Jorge', 'Márcia', 'Geraldo', 'Adriana', 'Sandra', 'Luis']\n",
    "\n",
    "#for i, item in enumerate(funcionarios):\n",
    "    #print(f'O {i} {item}')\n"
   ]
  },
  {
   "cell_type": "markdown",
   "id": "b0c6899e",
   "metadata": {},
   "source": [
    "### Exemplo Prático\n",
    "Vamos pegar um exemplo de nível mínimo de estoque. Em uma fábrica você tem vários produtos e não pode deixar que os produtos<br>\n",
    "fiquem em falta. Para isso, foi definido uma quantidade mínima de estoque que os produtos precisam ter:\n",
    "\n",
    "Identifique quais produtos estão abaixo do nível mínimo de estoque."
   ]
  },
  {
   "cell_type": "code",
   "execution_count": 26,
   "id": "426aa961",
   "metadata": {},
   "outputs": [
    {
     "name": "stdout",
     "output_type": "stream",
     "text": [
      "O produto coca está abaixo do nivel minimo possui apenas 49 unidades\n",
      "O produto agua está abaixo do nivel minimo possui apenas 30 unidades\n",
      "O produto dolly está abaixo do nivel minimo possui apenas 20 unidades\n",
      "O produto red bull está abaixo do nivel minimo possui apenas 23 unidades\n"
     ]
    }
   ],
   "source": [
    "estoque = [49, 300, 800, 1500, 1900, 30, 400, 20, 23, 70, 90, 80, 1100, 999, 900, 880, 870, 50, 1111, 120, 300, 450, 800]\n",
    "produtos = ['coca', 'pepsi', 'guarana', 'skol', 'brahma', 'agua', 'del valle', 'dolly', 'red bull', 'cachaça', 'vinho tinto', 'vodka', 'vinho branco', 'tequila', 'champagne', 'gin', 'guaracamp', 'matte', 'leite de castanha', 'leite', 'jurupinga', 'sprite', 'fanta']\n",
    "nivel_minimo = 50\n",
    "\n",
    "for i, qtd in enumerate(estoque):\n",
    "    if qtd < nivel_minimo:\n",
    "        print(f'O produto {produtos[i]} está abaixo do nivel minimo possui apenas {qtd} unidades')"
   ]
  },
  {
   "cell_type": "markdown",
   "id": "53f08aff",
   "metadata": {},
   "source": [
    "## Formas de interromper um For (Break / Continue)\n",
    "\n",
    "### 2 - Opções.\n",
    "\n",
    "- break → interrompe e finaliza o for.\n",
    "- continue → interrompe e vai para o proximo."
   ]
  },
  {
   "cell_type": "code",
   "execution_count": 19,
   "id": "af308f31",
   "metadata": {},
   "outputs": [],
   "source": [
    "vendas = [170, 150, 800, 500, 120]\n",
    "meta = 160"
   ]
  },
  {
   "cell_type": "code",
   "execution_count": 20,
   "id": "aa1bde92",
   "metadata": {},
   "outputs": [
    {
     "name": "stdout",
     "output_type": "stream",
     "text": [
      "170\n",
      "A loja não ganha bonus\n"
     ]
    }
   ],
   "source": [
    "# Se todas as metas forem acima da media a loja ganha bonus.\n",
    "\n",
    "for venda in vendas:\n",
    "    if venda < meta:\n",
    "        print('A loja não ganha bonus')\n",
    "        break\n",
    "    print(venda)"
   ]
  },
  {
   "cell_type": "code",
   "execution_count": 24,
   "id": "9a8029b3",
   "metadata": {},
   "outputs": [
    {
     "name": "stdout",
     "output_type": "stream",
     "text": [
      "170\n",
      "800\n",
      "500\n"
     ]
    }
   ],
   "source": [
    "# Exiba quem bateu a meta\n",
    "\n",
    "for venda in vendas:\n",
    "    if venda < meta:\n",
    "        continue\n",
    "    print(venda)"
   ]
  }
 ],
 "metadata": {
  "kernelspec": {
   "display_name": "Python 3 (ipykernel)",
   "language": "python",
   "name": "python3"
  },
  "language_info": {
   "codemirror_mode": {
    "name": "ipython",
    "version": 3
   },
   "file_extension": ".py",
   "mimetype": "text/x-python",
   "name": "python",
   "nbconvert_exporter": "python",
   "pygments_lexer": "ipython3",
   "version": "3.9.12"
  }
 },
 "nbformat": 4,
 "nbformat_minor": 5
}
